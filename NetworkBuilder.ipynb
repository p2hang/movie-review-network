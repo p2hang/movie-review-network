{
 "cells": [
  {
   "cell_type": "code",
   "execution_count": 32,
   "metadata": {
    "collapsed": false
   },
   "outputs": [],
   "source": [
    "#examing first 100 lines of file\n",
    "i = 0\n",
    "with open(\"movies.txt\") as infile:\n",
    "    for line in infile:\n",
    "        i += 1\n",
    "        if i == 100:\n",
    "            break;\n",
    "        print(line)\n",
    "        "
   ]
  },
  {
   "cell_type": "code",
   "execution_count": 1,
   "metadata": {
    "collapsed": false
   },
   "outputs": [],
   "source": [
    "import networkx as nx\n",
    "\n",
    "# handling large file, reading line by line, and pass line to functionByLine\n",
    "def readfile(functionByLine):\n",
    "    #read file (ignoring non-utf bytes)\n",
    "    bufsize = 1024 * 1024 #1M\n",
    "    with open(\"movies.txt\", errors=\"ignore\") as infile:\n",
    "        while True:\n",
    "            lines = infile.readlines(bufsize)\n",
    "            if not lines:\n",
    "                break\n",
    "            for line in infile:\n",
    "                functionByLine(line)\n",
    "\n",
    "# read vertices procedure need global variable of \"movieGraph\", takes about 1 min for verteces\n",
    "movieGraph = nx.Graph()\n",
    "def readVertexByLine(line):\n",
    "    if line.startswith(\"product/productId:\"):\n",
    "        lineSplited = line.split(\":\")\n",
    "        movieID = lineSplited[1].strip()\n",
    "        if movieID not in movieGraph:\n",
    "            movieGraph.add_node(movieID)\n",
    "# Adding vertices:\n",
    "readfile(readVertexByLine)\n",
    "\n",
    "# TODO add edges to graph"
   ]
  },
  {
   "cell_type": "code",
   "execution_count": 2,
   "metadata": {
    "collapsed": false
   },
   "outputs": [
    {
     "data": {
      "text/plain": [
       "253044"
      ]
     },
     "execution_count": 2,
     "metadata": {},
     "output_type": "execute_result"
    }
   ],
   "source": [
    "#Graph properties:\n",
    "movieGraph.number_of_nodes()"
   ]
  },
  {
   "cell_type": "code",
   "execution_count": 3,
   "metadata": {
    "collapsed": false
   },
   "outputs": [],
   "source": [
    "# TODO experiment 1: aggregation effect?\n",
    "# edge adding processes:\n",
    "# for each reviewers has n movies reviews \n",
    "#     => those n movies should connect to each other with (original weight+1)\n",
    "# analysis this graph : clusters?  popularity?  diffusal?\n",
    "\n",
    "\n",
    "# mapping reviewr to movies  #about 1 min\n",
    "reviewer_Movies = {}\n",
    "reviewer = None\n",
    "movie = None\n",
    "def readReviewerMoviesByLine(line):\n",
    "    global reviewer\n",
    "    global movie\n",
    "    if line.startswith(\"product/productId:\"):\n",
    "        lineSplited = line.split(\":\")\n",
    "        movie = lineSplited[1].strip()\n",
    "    elif line.startswith(\"review/userId:\"):\n",
    "        lineSplited = line.split(\":\")\n",
    "        reviewer = lineSplited[1].strip()\n",
    "        if reviewer not in reviewer_Movies:\n",
    "            reviewer_Movies[reviewer] = set()\n",
    "        reviewer_Movies[reviewer].add(movie)\n",
    "readfile(readReviewerMoviesByLine)\n"
   ]
  },
  {
   "cell_type": "code",
   "execution_count": 4,
   "metadata": {
    "collapsed": false
   },
   "outputs": [
    {
     "data": {
      "text/plain": [
       "889173"
      ]
     },
     "execution_count": 4,
     "metadata": {},
     "output_type": "execute_result"
    }
   ],
   "source": [
    "# number of reviewrs\n",
    "len(reviewer_Movies)"
   ]
  },
  {
   "cell_type": "code",
   "execution_count": 5,
   "metadata": {
    "collapsed": false
   },
   "outputs": [],
   "source": [
    "# looping of adding edges #experiment 1, about 2-3 mins\n",
    "\n",
    "feature = \"weight\"\n",
    "increment = 1\n",
    "for reviewer in reviewer_Movies:\n",
    "    for movies1 in reviewer:\n",
    "        for movies2 in reviewer:\n",
    "            if movies1 != movies2:\n",
    "                if not movieGraph.has_edge(movies1, movies2):\n",
    "                    movieGraph.add_edge(movies1, movies2)\n",
    "                if feature not in movieGraph[movies1][movies2]:\n",
    "                    movieGraph[movies1][movies2][feature] = increment\n",
    "                else:\n",
    "                    movieGraph[movies1][movies2][feature] += increment\n"
   ]
  },
  {
   "cell_type": "code",
   "execution_count": 6,
   "metadata": {
    "collapsed": false
   },
   "outputs": [
    {
     "data": {
      "text/plain": [
       "728"
      ]
     },
     "execution_count": 6,
     "metadata": {},
     "output_type": "execute_result"
    }
   ],
   "source": [
    "#graph properties about edges\n",
    "\n",
    "#only 728 edges?? this surprise me!\n",
    "movieGraph.number_of_edges()\n"
   ]
  },
  {
   "cell_type": "code",
   "execution_count": null,
   "metadata": {
    "collapsed": true
   },
   "outputs": [],
   "source": [
    "#basic visualization of movie graph\n",
    "nx.draw(movieGraph)\n",
    "plt.show()"
   ]
  },
  {
   "cell_type": "code",
   "execution_count": null,
   "metadata": {
    "collapsed": true
   },
   "outputs": [],
   "source": []
  },
  {
   "cell_type": "code",
   "execution_count": 30,
   "metadata": {
    "collapsed": true
   },
   "outputs": [],
   "source": [
    "# TODO experiment 2: reviews features?\n",
    "# edge adding processes:\n",
    "# same as experiment 1 but each edge instead of adding weight, extracting the featrues lables of those reviews,\n",
    "# adding the weight of corresonding features weight between those movies\n"
   ]
  },
  {
   "cell_type": "code",
   "execution_count": null,
   "metadata": {
    "collapsed": true
   },
   "outputs": [],
   "source": []
  }
 ],
 "metadata": {
  "anaconda-cloud": {},
  "kernelspec": {
   "display_name": "Python [conda root]",
   "language": "python",
   "name": "conda-root-py"
  },
  "language_info": {
   "codemirror_mode": {
    "name": "ipython",
    "version": 3
   },
   "file_extension": ".py",
   "mimetype": "text/x-python",
   "name": "python",
   "nbconvert_exporter": "python",
   "pygments_lexer": "ipython3",
   "version": "3.5.2"
  }
 },
 "nbformat": 4,
 "nbformat_minor": 1
}
